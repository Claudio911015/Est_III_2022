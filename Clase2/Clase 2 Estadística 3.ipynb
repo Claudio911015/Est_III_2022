{
 "cells": [
  {
   "cell_type": "code",
   "execution_count": 43,
   "id": "213fd333",
   "metadata": {},
   "outputs": [
    {
     "name": "stdout",
     "output_type": "stream",
     "text": [
      "Hola Mundo\n"
     ]
    }
   ],
   "source": [
    "#Para ejecutar las celdas de Jupyter, podemos darle click al botón \"Run\"\n",
    "#ó presionamos las teclas CTRL+ENTER\n",
    "#Si queremos ejecutar una celda y luego crear una celda nueva debajo \n",
    "#de la anterior, presionamos las teclas SHIFT+ENTER\n",
    "#Muestra en la consola la frase \"Hola Mundo\"\n",
    "print(\"Hola Mundo\")\n",
    "\n",
    "#En python no es necesario declarar el tipo de variable\n",
    "x = 5 #Entero (int)\n",
    "y = 3.141596 #Decimal (double)\n",
    "z = \"Juan\" #Cadena de texto (String)\n",
    "w = True #Booleano (bool) "
   ]
  },
  {
   "cell_type": "code",
   "execution_count": 46,
   "id": "969b70df",
   "metadata": {},
   "outputs": [
    {
     "name": "stdout",
     "output_type": "stream",
     "text": [
      "Podemos imprimir el valor de un número entero:\n",
      "5\n",
      "Podemos imprimir el valor de un número decimal:\n",
      "3.141596\n",
      "Podemos imprimir el valor de una cadena de texto:\n",
      "Juan\n",
      "Podemos imprimir el valor de un booleano:\n",
      "True\n"
     ]
    }
   ],
   "source": [
    "print(\"Podemos imprimir el valor de un número entero:\")\n",
    "print(x)\n",
    "print(\"Podemos imprimir el valor de un número decimal:\")\n",
    "print(y)\n",
    "print(\"Podemos imprimir el valor de una cadena de texto:\")\n",
    "print(z)\n",
    "print(\"Podemos imprimir el valor de un booleano:\")\n",
    "print(w)"
   ]
  },
  {
   "cell_type": "markdown",
   "id": "ccca15cc",
   "metadata": {},
   "source": [
    "# Principales comandos de Markdown\n",
    "\n",
    "\n",
    "# Título grande\n",
    "## Título mediano\n",
    "### Título pequeño\n",
    "\n",
    "* Viñeta 1\n",
    "* Viñeta 2 \n",
    "\n",
    "This is **bold**."
   ]
  },
  {
   "cell_type": "markdown",
   "id": "7a143cf2",
   "metadata": {},
   "source": [
    "# Operaciones básicas en python"
   ]
  },
  {
   "cell_type": "code",
   "execution_count": 68,
   "id": "cb851886",
   "metadata": {},
   "outputs": [
    {
     "name": "stdout",
     "output_type": "stream",
     "text": [
      "8.141596\n",
      "1.8584040000000002\n",
      "15.70798\n",
      "1.5915477356095438\n",
      "25\n",
      "1\n",
      "2\n"
     ]
    }
   ],
   "source": [
    "#Suma de dos valores\n",
    "print(x+y)\n",
    "#Resta\n",
    "print(x-y)\n",
    "#Multiplicación\n",
    "print(x*y)\n",
    "#División\n",
    "print(x/y)\n",
    "#Potencia\n",
    "print(x**2)\n",
    "#Módulo\n",
    "print(x%2)\n",
    "#División entera\n",
    "print(x//2)"
   ]
  },
  {
   "cell_type": "markdown",
   "id": "cbcc9dd0",
   "metadata": {},
   "source": [
    "# Operaciones con cadenas de texto"
   ]
  },
  {
   "cell_type": "code",
   "execution_count": 70,
   "id": "7c299c10",
   "metadata": {},
   "outputs": [],
   "source": [
    "saludo = \"Hola, mi nombre es \"\n",
    "nombre = \"Claudio\""
   ]
  },
  {
   "cell_type": "code",
   "execution_count": 71,
   "id": "edc4bc7c",
   "metadata": {},
   "outputs": [
    {
     "name": "stdout",
     "output_type": "stream",
     "text": [
      "Hola, mi nombre es Claudio\n"
     ]
    }
   ],
   "source": [
    "print(saludo + nombre)"
   ]
  },
  {
   "cell_type": "code",
   "execution_count": 76,
   "id": "12064633",
   "metadata": {},
   "outputs": [
    {
     "name": "stdout",
     "output_type": "stream",
     "text": [
      "Hola\n"
     ]
    }
   ],
   "source": [
    "#Extraer texto de una cadena de texto utilizando el comando split\n",
    "#y quitar caracteres no deseados\n",
    "print(saludo.split(\" \")[0].replace(\",\",\"\"))"
   ]
  },
  {
   "cell_type": "code",
   "execution_count": 85,
   "id": "e63b2870",
   "metadata": {},
   "outputs": [
    {
     "name": "stdout",
     "output_type": "stream",
     "text": [
      "ola\n"
     ]
    }
   ],
   "source": [
    "#Extraer texto a partir de una cadena de texto sin espacios\n",
    "texto = \"holalkjiblebc\"\n",
    "print(texto[0:4]) #un intervalo semi abierto [0,4)"
   ]
  },
  {
   "cell_type": "markdown",
   "id": "e282096f",
   "metadata": {},
   "source": [
    "# Operaciones booleanas"
   ]
  },
  {
   "cell_type": "code",
   "execution_count": 86,
   "id": "b063be7e",
   "metadata": {},
   "outputs": [],
   "source": [
    "t = True\n",
    "f = False"
   ]
  },
  {
   "cell_type": "code",
   "execution_count": 96,
   "id": "b673d8f4",
   "metadata": {},
   "outputs": [
    {
     "name": "stdout",
     "output_type": "stream",
     "text": [
      "True\n",
      "False\n",
      "True\n",
      "False\n",
      "False\n",
      "True\n"
     ]
    }
   ],
   "source": [
    "print(t and t)\n",
    "print(t and f)\n",
    "print(f or t)\n",
    "print(f or f)\n",
    "print(not t)\n",
    "print(not f)"
   ]
  },
  {
   "cell_type": "code",
   "execution_count": 101,
   "id": "e59eaf86",
   "metadata": {},
   "outputs": [
    {
     "name": "stdout",
     "output_type": "stream",
     "text": [
      "True\n",
      "False\n",
      "False\n",
      "False\n",
      "True\n"
     ]
    }
   ],
   "source": [
    "# Operador XOR\n",
    "print(f ^ t)\n",
    "print(f ^ f)\n",
    "print(t ^ t)\n",
    "print(f ^ f)\n",
    "print(t ^ f)"
   ]
  },
  {
   "cell_type": "markdown",
   "id": "d604b52c",
   "metadata": {},
   "source": [
    "# Objetos especiales en python\n",
    "* Listas\n",
    "* Tuplas\n",
    "* Diccionarios"
   ]
  },
  {
   "cell_type": "code",
   "execution_count": 102,
   "id": "096755ad",
   "metadata": {},
   "outputs": [
    {
     "name": "stdout",
     "output_type": "stream",
     "text": [
      "[1, 2, 3, 4, 5]\n"
     ]
    }
   ],
   "source": [
    "#listas\n",
    "lista = [1,2,3,4,5] #Lista que contiene números\n",
    "print(lista)"
   ]
  },
  {
   "cell_type": "code",
   "execution_count": 103,
   "id": "706acedf",
   "metadata": {},
   "outputs": [
    {
     "name": "stdout",
     "output_type": "stream",
     "text": [
      "['Juana', 'Lupe', 'Carlos']\n"
     ]
    }
   ],
   "source": [
    "#Listas que contienen cadenas de texto\n",
    "lista = [\"Juana\",'Lupe','Carlos']\n",
    "print(lista)"
   ]
  },
  {
   "cell_type": "code",
   "execution_count": 104,
   "id": "18470028",
   "metadata": {},
   "outputs": [
    {
     "name": "stdout",
     "output_type": "stream",
     "text": [
      "['Juan', 5, True, 10.55123]\n"
     ]
    }
   ],
   "source": [
    "#Listas mixtas\n",
    "lista = [\"Juan\", 5, True, 10.55123]\n",
    "print(lista)"
   ]
  },
  {
   "cell_type": "code",
   "execution_count": 110,
   "id": "478d43da",
   "metadata": {},
   "outputs": [
    {
     "name": "stdout",
     "output_type": "stream",
     "text": [
      "[1, 2, 3, 4, 5, 7, 8, 9, 1, 2]\n"
     ]
    }
   ],
   "source": [
    "#Las listas no tienen operaciones vectoriales (diferente a numpy)\n",
    "lista1 = [1,2,3,4,5]\n",
    "lista2 = [7,8,9,1,2]\n",
    "print(lista1 + lista2)"
   ]
  },
  {
   "cell_type": "code",
   "execution_count": 113,
   "id": "5cca429e",
   "metadata": {},
   "outputs": [
    {
     "name": "stdout",
     "output_type": "stream",
     "text": [
      "[1, 2, 3, 4, 5, 1, 2, 3, 4, 5]\n",
      "[2, 4, 6, 8, 10]\n"
     ]
    }
   ],
   "source": [
    "#Quisiera multiplicar cada elemento de la lista  por 2\n",
    "print(lista1 * 2) # No funciona\n",
    "#Podemos usar un concepto en python llamado \"List Comprehension\"\n",
    "\n",
    "print([2*x for x in lista1])"
   ]
  },
  {
   "cell_type": "code",
   "execution_count": 114,
   "id": "8e41709c",
   "metadata": {},
   "outputs": [
    {
     "name": "stdout",
     "output_type": "stream",
     "text": [
      "[11, 12, 13, 14, 15]\n"
     ]
    }
   ],
   "source": [
    "#Supongamos que queremos sumar el valor de 10 a cada elemento de lista1\n",
    "print([x+10 for x in lista1])"
   ]
  },
  {
   "cell_type": "code",
   "execution_count": 115,
   "id": "9f9c64b8",
   "metadata": {},
   "outputs": [
    {
     "name": "stdout",
     "output_type": "stream",
     "text": [
      "[3, 4, 5]\n"
     ]
    }
   ],
   "source": [
    "#Necesitamos un comando que filtre los elementos menores a 3 de la lista\n",
    "print([x for x in lista1 if x >= 3])"
   ]
  },
  {
   "cell_type": "code",
   "execution_count": 117,
   "id": "5a2c52f6",
   "metadata": {},
   "outputs": [
    {
     "name": "stdout",
     "output_type": "stream",
     "text": [
      "[2, 4]\n"
     ]
    }
   ],
   "source": [
    "#Necesitamos un comando que filtre de lista1 los elementos impares\n",
    "print([x for x in lista1 if x%2 == 0])"
   ]
  },
  {
   "cell_type": "code",
   "execution_count": 121,
   "id": "e73428d8",
   "metadata": {},
   "outputs": [
    {
     "name": "stdout",
     "output_type": "stream",
     "text": [
      "[0.5, 8, 1.5, 16, 2.5]\n"
     ]
    }
   ],
   "source": [
    "#Necesitamos un comando que multiplique en lista1 los elementos \n",
    "#pares divida entre 2 los elementos impares\n",
    "print([x*4 if x%2 == 0 else x/2 for x in lista1])"
   ]
  },
  {
   "cell_type": "code",
   "execution_count": null,
   "id": "bf182bbb",
   "metadata": {},
   "outputs": [],
   "source": [
    "#Recordatorio\n",
    "#Una List Comprehension se puede declarar de varias formas:\n",
    "#[f(x) for x in list]\n",
    "#[f(x) for x in list if \"statement\"]\n",
    "#[f(x) if \"statement\" for x in list]\n",
    "#[f(x) if \"statement a\" else \"statement b\" for x in list]"
   ]
  },
  {
   "cell_type": "code",
   "execution_count": 127,
   "id": "63515d3d",
   "metadata": {},
   "outputs": [
    {
     "name": "stdout",
     "output_type": "stream",
     "text": [
      "[1, 2, 3, 550000, 5]\n"
     ]
    }
   ],
   "source": [
    "#Las listas son mutables, es decir, podemos modificar los elementos\n",
    "#Que contiene\n",
    "lista1[3] = 550000\n",
    "print(lista1)"
   ]
  },
  {
   "cell_type": "markdown",
   "id": "8a85541f",
   "metadata": {},
   "source": [
    "# Tuplas (tuple)\n",
    "    Objetos similares a las listas, solo que dichos elementos no son\n",
    "    mutables"
   ]
  },
  {
   "cell_type": "code",
   "execution_count": 131,
   "id": "548d52db",
   "metadata": {},
   "outputs": [
    {
     "name": "stdout",
     "output_type": "stream",
     "text": [
      "(1, 2, 3, 'hola', 5)\n"
     ]
    }
   ],
   "source": [
    "#Declaración de una tupla, igual que una lista, pero utilizando parentesis en \n",
    "#vez de corchetes\n",
    "tupla = (1,2,3,\"hola\",5)\n",
    "print(tupla)"
   ]
  },
  {
   "cell_type": "code",
   "execution_count": 133,
   "id": "14bf7d8c",
   "metadata": {},
   "outputs": [
    {
     "ename": "TypeError",
     "evalue": "'tuple' object does not support item assignment",
     "output_type": "error",
     "traceback": [
      "\u001b[0;31m---------------------------------------------------------------------------\u001b[0m",
      "\u001b[0;31mTypeError\u001b[0m                                 Traceback (most recent call last)",
      "\u001b[0;32m<ipython-input-133-951b123a89ce>\u001b[0m in \u001b[0;36m<module>\u001b[0;34m\u001b[0m\n\u001b[1;32m      1\u001b[0m \u001b[0;31m#Las listas son inmutables\u001b[0m\u001b[0;34m\u001b[0m\u001b[0;34m\u001b[0m\u001b[0;34m\u001b[0m\u001b[0m\n\u001b[0;32m----> 2\u001b[0;31m \u001b[0mtupla\u001b[0m\u001b[0;34m[\u001b[0m\u001b[0;36m3\u001b[0m\u001b[0;34m]\u001b[0m \u001b[0;34m=\u001b[0m \u001b[0;36m20000\u001b[0m\u001b[0;34m\u001b[0m\u001b[0;34m\u001b[0m\u001b[0m\n\u001b[0m",
      "\u001b[0;31mTypeError\u001b[0m: 'tuple' object does not support item assignment"
     ]
    }
   ],
   "source": [
    "#Las listas son inmutables\n",
    "tupla[3] = 20000"
   ]
  },
  {
   "cell_type": "code",
   "execution_count": 136,
   "id": "5bd1114d",
   "metadata": {},
   "outputs": [
    {
     "name": "stdout",
     "output_type": "stream",
     "text": [
      "['Juana', 'López', 1998, 'CDMX']\n"
     ]
    }
   ],
   "source": [
    "lista=[\"Pedro\",\"López\",1998, \"CDMX\"] # da pie a que los datos se\n",
    "#modifiquen eventualmente\n",
    "lista[0]= \"Juana\"\n",
    "print(lista)"
   ]
  },
  {
   "cell_type": "code",
   "execution_count": 138,
   "id": "605045b4",
   "metadata": {},
   "outputs": [
    {
     "ename": "TypeError",
     "evalue": "'tuple' object does not support item assignment",
     "output_type": "error",
     "traceback": [
      "\u001b[0;31m---------------------------------------------------------------------------\u001b[0m",
      "\u001b[0;31mTypeError\u001b[0m                                 Traceback (most recent call last)",
      "\u001b[0;32m<ipython-input-138-4f1941a62576>\u001b[0m in \u001b[0;36m<module>\u001b[0;34m\u001b[0m\n\u001b[1;32m      1\u001b[0m \u001b[0mtupla\u001b[0m\u001b[0;34m=\u001b[0m\u001b[0;34m(\u001b[0m\u001b[0;34m\"Pedro\"\u001b[0m\u001b[0;34m,\u001b[0m\u001b[0;34m\"López\"\u001b[0m\u001b[0;34m,\u001b[0m\u001b[0;36m1998\u001b[0m\u001b[0;34m,\u001b[0m \u001b[0;34m\"CDMX\"\u001b[0m\u001b[0;34m)\u001b[0m \u001b[0;31m# da pie a que los datos se\u001b[0m\u001b[0;34m\u001b[0m\u001b[0;34m\u001b[0m\u001b[0m\n\u001b[1;32m      2\u001b[0m \u001b[0;31m#modifiquen eventualmente\u001b[0m\u001b[0;34m\u001b[0m\u001b[0;34m\u001b[0m\u001b[0;34m\u001b[0m\u001b[0m\n\u001b[0;32m----> 3\u001b[0;31m \u001b[0mtupla\u001b[0m\u001b[0;34m[\u001b[0m\u001b[0;36m0\u001b[0m\u001b[0;34m]\u001b[0m \u001b[0;34m=\u001b[0m \u001b[0;34m\"Juana\"\u001b[0m\u001b[0;34m\u001b[0m\u001b[0;34m\u001b[0m\u001b[0m\n\u001b[0m\u001b[1;32m      4\u001b[0m \u001b[0mprint\u001b[0m\u001b[0;34m(\u001b[0m\u001b[0mtupla\u001b[0m\u001b[0;34m)\u001b[0m\u001b[0;34m\u001b[0m\u001b[0;34m\u001b[0m\u001b[0m\n",
      "\u001b[0;31mTypeError\u001b[0m: 'tuple' object does not support item assignment"
     ]
    }
   ],
   "source": [
    "tupla=(\"Pedro\",\"López\",1998, \"CDMX\") # da pie a que los datos se\n",
    "#modifiquen eventualmente\n",
    "tupla[0] = \"Juana\"\n",
    "print(tupla)"
   ]
  },
  {
   "cell_type": "code",
   "execution_count": 149,
   "id": "0300330f",
   "metadata": {},
   "outputs": [],
   "source": [
    "#list comprehension con tuplas\n",
    "tupla = (1,2,3,4,5)\n",
    "listacuadrado = tuple([x ** 2 for x in tupla]) #De esta forma retornamos\n",
    "#Una tupla al objeto listacuadrado"
   ]
  },
  {
   "cell_type": "code",
   "execution_count": 150,
   "id": "16165635",
   "metadata": {},
   "outputs": [
    {
     "data": {
      "text/plain": [
       "(1, 2, 3, 4, 5)"
      ]
     },
     "execution_count": 150,
     "metadata": {},
     "output_type": "execute_result"
    }
   ],
   "source": [
    "tupla"
   ]
  },
  {
   "cell_type": "code",
   "execution_count": 151,
   "id": "0d108ce9",
   "metadata": {},
   "outputs": [
    {
     "data": {
      "text/plain": [
       "(1, 4, 9, 16, 25)"
      ]
     },
     "execution_count": 151,
     "metadata": {},
     "output_type": "execute_result"
    }
   ],
   "source": [
    "listacuadrado"
   ]
  },
  {
   "cell_type": "markdown",
   "id": "0aac0553",
   "metadata": {},
   "source": [
    "# Diccionarios\n",
    " Objetos similares a las listas, pero van a estar indexados por una llave, funcionarán de la siguiente forma:\n",
    " \n",
    " diccionario = {llave1:valor1, llave2:valor2, llave3:valor3}"
   ]
  },
  {
   "cell_type": "code",
   "execution_count": 152,
   "id": "1077db1c",
   "metadata": {},
   "outputs": [],
   "source": [
    "diccionario = {\"Luis\":10, \"Roberto\":6, \"Laura\":9}"
   ]
  },
  {
   "cell_type": "code",
   "execution_count": 155,
   "id": "950422b4",
   "metadata": {},
   "outputs": [
    {
     "data": {
      "text/plain": [
       "9"
      ]
     },
     "execution_count": 155,
     "metadata": {},
     "output_type": "execute_result"
    }
   ],
   "source": [
    "diccionario[\"Laura\"]"
   ]
  },
  {
   "cell_type": "code",
   "execution_count": 157,
   "id": "054cb4a9",
   "metadata": {},
   "outputs": [
    {
     "data": {
      "text/plain": [
       "dict_keys(['Luis', 'Roberto', 'Laura'])"
      ]
     },
     "execution_count": 157,
     "metadata": {},
     "output_type": "execute_result"
    }
   ],
   "source": [
    "#Devuelve las llaves correspondientes a el diccionario\n",
    "diccionario.keys()"
   ]
  },
  {
   "cell_type": "code",
   "execution_count": 158,
   "id": "e54e07c8",
   "metadata": {},
   "outputs": [
    {
     "data": {
      "text/plain": [
       "dict_values([10, 6, 9])"
      ]
     },
     "execution_count": 158,
     "metadata": {},
     "output_type": "execute_result"
    }
   ],
   "source": [
    "#Devuelve los valores correspondientes a el diccionario\n",
    "diccionario.values()"
   ]
  }
 ],
 "metadata": {
  "kernelspec": {
   "display_name": "Python 3.6.10 64-bit",
   "language": "python",
   "name": "python361064bita59d033ec43f45b8b84ad4fad713dd69"
  },
  "language_info": {
   "codemirror_mode": {
    "name": "ipython",
    "version": 3
   },
   "file_extension": ".py",
   "mimetype": "text/x-python",
   "name": "python",
   "nbconvert_exporter": "python",
   "pygments_lexer": "ipython3",
   "version": "3.6.10"
  }
 },
 "nbformat": 4,
 "nbformat_minor": 5
}
