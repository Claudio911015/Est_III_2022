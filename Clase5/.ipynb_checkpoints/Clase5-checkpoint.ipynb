{
 "cells": [
  {
   "cell_type": "markdown",
   "id": "faabf1b5",
   "metadata": {},
   "source": [
    "# Estructuras de control básicas en Python"
   ]
  },
  {
   "cell_type": "code",
   "execution_count": 4,
   "id": "e75296ba",
   "metadata": {},
   "outputs": [
    {
     "name": "stdout",
     "output_type": "stream",
     "text": [
      "0\n",
      "1\n",
      "2\n",
      "3\n",
      "4\n",
      "5\n",
      "6\n",
      "7\n",
      "8\n",
      "9\n"
     ]
    }
   ],
   "source": [
    "for i in range(10):\n",
    "    print(i)"
   ]
  },
  {
   "cell_type": "code",
   "execution_count": 5,
   "id": "b872e228",
   "metadata": {},
   "outputs": [
    {
     "name": "stdout",
     "output_type": "stream",
     "text": [
      "0\n",
      "1\n",
      "2\n",
      "3\n",
      "4\n",
      "5\n",
      "6\n",
      "7\n",
      "8\n",
      "9\n"
     ]
    }
   ],
   "source": [
    "i = 0\n",
    "while i < 10:\n",
    "    print(i)\n",
    "    i = i + 1"
   ]
  },
  {
   "cell_type": "code",
   "execution_count": 13,
   "id": "77a0299f",
   "metadata": {},
   "outputs": [
    {
     "name": "stdout",
     "output_type": "stream",
     "text": [
      "c es el menor de todos los números\n"
     ]
    }
   ],
   "source": [
    "a = 70\n",
    "b = 7\n",
    "c = 1\n",
    "if a < b  and a < c:\n",
    "    print(\"a es el menor de todos los números\")\n",
    "elif b < a and b < c:\n",
    "    print(\"b es el menor de todos los números\")\n",
    "else:\n",
    "    print(\"c es el menor de todos los números\")"
   ]
  },
  {
   "cell_type": "markdown",
   "id": "92227289",
   "metadata": {},
   "source": [
    "La clase anterior vimos comandos básicos de python, pero además tenemos varias librerías externas que nos ayudan a mejorar la eficiencia de nuestros cálculos en python.\n",
    "Si nosotros queremos utilizar una librería externa para realizar cálculos más complejos, podemos importarla utilizando el comando \"import\""
   ]
  },
  {
   "cell_type": "code",
   "execution_count": 15,
   "id": "5af9cf56",
   "metadata": {},
   "outputs": [],
   "source": [
    "#En general, numpy se encuentra pre cargada dentro de nuestro entorno de \n",
    "#python\n",
    "import numpy #importar todas las funciones de python"
   ]
  },
  {
   "cell_type": "code",
   "execution_count": 16,
   "id": "8ad73f10",
   "metadata": {},
   "outputs": [
    {
     "data": {
      "text/plain": [
       "array([1, 2, 3])"
      ]
     },
     "execution_count": 16,
     "metadata": {},
     "output_type": "execute_result"
    }
   ],
   "source": [
    "#para utilizar las funciones o clases de numpy, vamos a escribir lo\n",
    "#Siguiente:\n",
    "# \"nombre de la librería\".\"nombre de la función\"\n",
    "numpy.array([1,2,3])"
   ]
  },
  {
   "cell_type": "code",
   "execution_count": 18,
   "id": "15a56eea",
   "metadata": {},
   "outputs": [],
   "source": [
    "#También podemos re nombrar a una librería con un \"alias\", esto con el\n",
    "#fin de no tener que escribir el nombre de la librería todo el tiempo.\n",
    "#Ésto se efectúa de la siguiente forma:\n",
    "# import \"nombre de la librería\" as \"alias\""
   ]
  },
  {
   "cell_type": "code",
   "execution_count": 26,
   "id": "4e31a2f7",
   "metadata": {},
   "outputs": [],
   "source": [
    "import numpy as np #alias estándar de numpy"
   ]
  },
  {
   "cell_type": "code",
   "execution_count": 27,
   "id": "77e06478",
   "metadata": {},
   "outputs": [
    {
     "data": {
      "text/plain": [
       "array([1, 2, 3])"
      ]
     },
     "execution_count": 27,
     "metadata": {},
     "output_type": "execute_result"
    }
   ],
   "source": [
    "np.array([1,2,3])"
   ]
  },
  {
   "cell_type": "code",
   "execution_count": 30,
   "id": "98034e84",
   "metadata": {},
   "outputs": [],
   "source": [
    "#podemos importar la librería completa sin necesidad de escribir el \n",
    "#alias utilizando el caracter \"*\"\n",
    "from numpy import *\n",
    "#NO es recomendable, porque perdemos el seguimiento sobre qué\n",
    "#librería se está utilizando para llamar a una función determinada"
   ]
  },
  {
   "cell_type": "code",
   "execution_count": 31,
   "id": "cf5c2f49",
   "metadata": {},
   "outputs": [],
   "source": [
    "from numpy import *\n",
    "from scipy import * #librería de métodos numéricos\n",
    "from matplotlib import * #MATPLOTLIB se utiliza para graficar datos"
   ]
  },
  {
   "cell_type": "code",
   "execution_count": 34,
   "id": "dfd20344",
   "metadata": {},
   "outputs": [],
   "source": [
    "import numpy as np\n",
    "import scipy as scp\n",
    "import matplotlib as mpl"
   ]
  },
  {
   "cell_type": "code",
   "execution_count": 37,
   "id": "dab9b79e",
   "metadata": {},
   "outputs": [
    {
     "name": "stdout",
     "output_type": "stream",
     "text": [
      "Requirement already satisfied: scikit-learn in /home/claudio/anaconda3/envs/tf2/lib/python3.7/site-packages (0.24.2)\n",
      "Requirement already satisfied: joblib>=0.11 in /home/claudio/anaconda3/envs/tf2/lib/python3.7/site-packages (from scikit-learn) (0.14.1)\n",
      "Requirement already satisfied: threadpoolctl>=2.0.0 in /home/claudio/anaconda3/envs/tf2/lib/python3.7/site-packages (from scikit-learn) (2.1.0)\n",
      "Requirement already satisfied: scipy>=0.19.1 in /home/claudio/anaconda3/envs/tf2/lib/python3.7/site-packages (from scikit-learn) (1.6.3)\n",
      "Requirement already satisfied: numpy>=1.13.3 in /home/claudio/anaconda3/envs/tf2/lib/python3.7/site-packages (from scikit-learn) (1.19.5)\n",
      "Note: you may need to restart the kernel to use updated packages.\n"
     ]
    }
   ],
   "source": [
    "#instalar paquetería utilizando el comando pip\n",
    "pip install scikit-learn"
   ]
  },
  {
   "cell_type": "code",
   "execution_count": 40,
   "id": "34bb5048",
   "metadata": {},
   "outputs": [
    {
     "name": "stdout",
     "output_type": "stream",
     "text": [
      "Collecting hmmlearn\n",
      "  Downloading hmmlearn-0.2.7-cp37-cp37m-manylinux_2_12_x86_64.manylinux2010_x86_64.whl (129 kB)\n",
      "\u001b[K     |████████████████████████████████| 129 kB 829 kB/s eta 0:00:01\n",
      "\u001b[?25hRequirement already satisfied: scipy>=0.19 in /home/claudio/anaconda3/envs/tf2/lib/python3.7/site-packages (from hmmlearn) (1.6.3)\n",
      "Requirement already satisfied: numpy>=1.10 in /home/claudio/anaconda3/envs/tf2/lib/python3.7/site-packages (from hmmlearn) (1.19.5)\n",
      "Requirement already satisfied: scikit-learn>=0.16 in /home/claudio/anaconda3/envs/tf2/lib/python3.7/site-packages (from hmmlearn) (0.24.2)\n",
      "Requirement already satisfied: threadpoolctl>=2.0.0 in /home/claudio/anaconda3/envs/tf2/lib/python3.7/site-packages (from scikit-learn>=0.16->hmmlearn) (2.1.0)\n",
      "Requirement already satisfied: joblib>=0.11 in /home/claudio/anaconda3/envs/tf2/lib/python3.7/site-packages (from scikit-learn>=0.16->hmmlearn) (0.14.1)\n",
      "Installing collected packages: hmmlearn\n",
      "Successfully installed hmmlearn-0.2.7\n",
      "Note: you may need to restart the kernel to use updated packages.\n"
     ]
    }
   ],
   "source": [
    "#también podemos instalar paquetería desde anaconda utilizando el comando\n",
    "#conda install \"nombre del paquete\"\n",
    "pip install hmmlearn"
   ]
  },
  {
   "cell_type": "code",
   "execution_count": 41,
   "id": "e3a72e57",
   "metadata": {},
   "outputs": [],
   "source": [
    "import hmmlearn"
   ]
  },
  {
   "cell_type": "code",
   "execution_count": 38,
   "id": "e61b60e0",
   "metadata": {},
   "outputs": [],
   "source": [
    "import sklearn"
   ]
  },
  {
   "cell_type": "code",
   "execution_count": 35,
   "id": "e2a77bf5",
   "metadata": {},
   "outputs": [
    {
     "data": {
      "text/plain": [
       "1.0"
      ]
     },
     "execution_count": 35,
     "metadata": {},
     "output_type": "execute_result"
    }
   ],
   "source": [
    "np.exp(0)"
   ]
  },
  {
   "cell_type": "code",
   "execution_count": 29,
   "id": "78b2dcef",
   "metadata": {},
   "outputs": [
    {
     "data": {
      "text/plain": [
       "array([1, 2, 3])"
      ]
     },
     "execution_count": 29,
     "metadata": {},
     "output_type": "execute_result"
    }
   ],
   "source": [
    "array([1,2,3])"
   ]
  }
 ],
 "metadata": {
  "kernelspec": {
   "display_name": "Python 3",
   "language": "python",
   "name": "python3"
  },
  "language_info": {
   "codemirror_mode": {
    "name": "ipython",
    "version": 3
   },
   "file_extension": ".py",
   "mimetype": "text/x-python",
   "name": "python",
   "nbconvert_exporter": "python",
   "pygments_lexer": "ipython3",
   "version": "3.7.10"
  }
 },
 "nbformat": 4,
 "nbformat_minor": 5
}
