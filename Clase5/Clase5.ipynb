{
 "cells": [
  {
   "cell_type": "markdown",
   "id": "c0ec0faf",
   "metadata": {},
   "source": [
    "# Estructuras de control básicas en Python"
   ]
  },
  {
   "cell_type": "code",
   "execution_count": 4,
   "id": "7c0f0233",
   "metadata": {},
   "outputs": [
    {
     "name": "stdout",
     "output_type": "stream",
     "text": [
      "0\n",
      "1\n",
      "2\n",
      "3\n",
      "4\n",
      "5\n",
      "6\n",
      "7\n",
      "8\n",
      "9\n"
     ]
    }
   ],
   "source": [
    "for i in range(10):\n",
    "    print(i)"
   ]
  },
  {
   "cell_type": "code",
   "execution_count": 5,
   "id": "28a755ca",
   "metadata": {},
   "outputs": [
    {
     "name": "stdout",
     "output_type": "stream",
     "text": [
      "0\n",
      "1\n",
      "2\n",
      "3\n",
      "4\n",
      "5\n",
      "6\n",
      "7\n",
      "8\n",
      "9\n"
     ]
    }
   ],
   "source": [
    "i = 0\n",
    "while i < 10:\n",
    "    print(i)\n",
    "    i = i + 1"
   ]
  },
  {
   "cell_type": "code",
   "execution_count": 13,
   "id": "5a1b1123",
   "metadata": {},
   "outputs": [
    {
     "name": "stdout",
     "output_type": "stream",
     "text": [
      "c es el menor de todos los números\n"
     ]
    }
   ],
   "source": [
    "a = 70\n",
    "b = 7\n",
    "c = 1\n",
    "if a < b  and a < c:\n",
    "    print(\"a es el menor de todos los números\")\n",
    "elif b < a and b < c:\n",
    "    print(\"b es el menor de todos los números\")\n",
    "else:\n",
    "    print(\"c es el menor de todos los números\")"
   ]
  },
  {
   "cell_type": "markdown",
   "id": "0665cf10",
   "metadata": {},
   "source": [
    "La clase anterior vimos comandos básicos de python, pero además tenemos varias librerías externas que nos ayudan a mejorar la eficiencia de nuestros cálculos en python.\n",
    "Si nosotros queremos utilizar una librería externa para realizar cálculos más complejos, podemos importarla utilizando el comando \"import\""
   ]
  },
  {
   "cell_type": "code",
   "execution_count": 15,
   "id": "47ab61a5",
   "metadata": {},
   "outputs": [],
   "source": [
    "#En general, numpy se encuentra pre cargada dentro de nuestro entorno de \n",
    "#python\n",
    "import numpy #importar todas las funciones de python"
   ]
  },
  {
   "cell_type": "code",
   "execution_count": 16,
   "id": "db5299e5",
   "metadata": {},
   "outputs": [
    {
     "data": {
      "text/plain": [
       "array([1, 2, 3])"
      ]
     },
     "execution_count": 16,
     "metadata": {},
     "output_type": "execute_result"
    }
   ],
   "source": [
    "#para utilizar las funciones o clases de numpy, vamos a escribir lo\n",
    "#Siguiente:\n",
    "# \"nombre de la librería\".\"nombre de la función\"\n",
    "numpy.array([1,2,3])"
   ]
  },
  {
   "cell_type": "code",
   "execution_count": 18,
   "id": "129a6755",
   "metadata": {},
   "outputs": [],
   "source": [
    "#También podemos re nombrar a una librería con un \"alias\", esto con el\n",
    "#fin de no tener que escribir el nombre de la librería todo el tiempo.\n",
    "#Ésto se efectúa de la siguiente forma:\n",
    "# import \"nombre de la librería\" as \"alias\""
   ]
  },
  {
   "cell_type": "code",
   "execution_count": 26,
   "id": "eb9658c2",
   "metadata": {},
   "outputs": [],
   "source": [
    "import numpy as np #alias estándar de numpy"
   ]
  },
  {
   "cell_type": "code",
   "execution_count": 27,
   "id": "bc2ff0d5",
   "metadata": {},
   "outputs": [
    {
     "data": {
      "text/plain": [
       "array([1, 2, 3])"
      ]
     },
     "execution_count": 27,
     "metadata": {},
     "output_type": "execute_result"
    }
   ],
   "source": [
    "np.array([1,2,3])"
   ]
  },
  {
   "cell_type": "code",
   "execution_count": 30,
   "id": "a31bd1a4",
   "metadata": {},
   "outputs": [],
   "source": [
    "#podemos importar la librería completa sin necesidad de escribir el \n",
    "#alias utilizando el caracter \"*\"\n",
    "from numpy import *\n",
    "#NO es recomendable, porque perdemos el seguimiento sobre qué\n",
    "#librería se está utilizando para llamar a una función determinada"
   ]
  },
  {
   "cell_type": "code",
   "execution_count": 31,
   "id": "309444da",
   "metadata": {},
   "outputs": [],
   "source": [
    "from numpy import *\n",
    "from scipy import * #librería de métodos numéricos\n",
    "from matplotlib import * #MATPLOTLIB se utiliza para graficar datos"
   ]
  },
  {
   "cell_type": "code",
   "execution_count": 34,
   "id": "5b4b00b9",
   "metadata": {},
   "outputs": [],
   "source": [
    "import numpy as np\n",
    "import scipy as scp\n",
    "import matplotlib as mpl"
   ]
  },
  {
   "cell_type": "code",
   "execution_count": 37,
   "id": "7edd00d2",
   "metadata": {},
   "outputs": [
    {
     "name": "stdout",
     "output_type": "stream",
     "text": [
      "Requirement already satisfied: scikit-learn in /home/claudio/anaconda3/envs/tf2/lib/python3.7/site-packages (0.24.2)\n",
      "Requirement already satisfied: joblib>=0.11 in /home/claudio/anaconda3/envs/tf2/lib/python3.7/site-packages (from scikit-learn) (0.14.1)\n",
      "Requirement already satisfied: threadpoolctl>=2.0.0 in /home/claudio/anaconda3/envs/tf2/lib/python3.7/site-packages (from scikit-learn) (2.1.0)\n",
      "Requirement already satisfied: scipy>=0.19.1 in /home/claudio/anaconda3/envs/tf2/lib/python3.7/site-packages (from scikit-learn) (1.6.3)\n",
      "Requirement already satisfied: numpy>=1.13.3 in /home/claudio/anaconda3/envs/tf2/lib/python3.7/site-packages (from scikit-learn) (1.19.5)\n",
      "Note: you may need to restart the kernel to use updated packages.\n"
     ]
    }
   ],
   "source": [
    "#instalar paquetería utilizando el comando pip\n",
    "pip install scikit-learn"
   ]
  },
  {
   "cell_type": "code",
   "execution_count": 40,
   "id": "fd24e419",
   "metadata": {},
   "outputs": [
    {
     "name": "stdout",
     "output_type": "stream",
     "text": [
      "Collecting hmmlearn\n",
      "  Downloading hmmlearn-0.2.7-cp37-cp37m-manylinux_2_12_x86_64.manylinux2010_x86_64.whl (129 kB)\n",
      "\u001b[K     |████████████████████████████████| 129 kB 829 kB/s eta 0:00:01\n",
      "\u001b[?25hRequirement already satisfied: scipy>=0.19 in /home/claudio/anaconda3/envs/tf2/lib/python3.7/site-packages (from hmmlearn) (1.6.3)\n",
      "Requirement already satisfied: numpy>=1.10 in /home/claudio/anaconda3/envs/tf2/lib/python3.7/site-packages (from hmmlearn) (1.19.5)\n",
      "Requirement already satisfied: scikit-learn>=0.16 in /home/claudio/anaconda3/envs/tf2/lib/python3.7/site-packages (from hmmlearn) (0.24.2)\n",
      "Requirement already satisfied: threadpoolctl>=2.0.0 in /home/claudio/anaconda3/envs/tf2/lib/python3.7/site-packages (from scikit-learn>=0.16->hmmlearn) (2.1.0)\n",
      "Requirement already satisfied: joblib>=0.11 in /home/claudio/anaconda3/envs/tf2/lib/python3.7/site-packages (from scikit-learn>=0.16->hmmlearn) (0.14.1)\n",
      "Installing collected packages: hmmlearn\n",
      "Successfully installed hmmlearn-0.2.7\n",
      "Note: you may need to restart the kernel to use updated packages.\n"
     ]
    }
   ],
   "source": [
    "#también podemos instalar paquetería desde anaconda utilizando el comando\n",
    "#conda install \"nombre del paquete\"\n",
    "pip install hmmlearn"
   ]
  },
  {
   "cell_type": "code",
   "execution_count": 41,
   "id": "a20e52c9",
   "metadata": {},
   "outputs": [],
   "source": [
    "import hmmlearn"
   ]
  },
  {
   "cell_type": "code",
   "execution_count": 38,
   "id": "7838fdb6",
   "metadata": {},
   "outputs": [],
   "source": [
    "import sklearn"
   ]
  },
  {
   "cell_type": "code",
   "execution_count": 35,
   "id": "bde8e78c",
   "metadata": {},
   "outputs": [
    {
     "data": {
      "text/plain": [
       "1.0"
      ]
     },
     "execution_count": 35,
     "metadata": {},
     "output_type": "execute_result"
    }
   ],
   "source": [
    "np.exp(0)"
   ]
  },
  {
   "cell_type": "code",
   "execution_count": 29,
   "id": "8a52a72f",
   "metadata": {},
   "outputs": [
    {
     "data": {
      "text/plain": [
       "array([1, 2, 3])"
      ]
     },
     "execution_count": 29,
     "metadata": {},
     "output_type": "execute_result"
    }
   ],
   "source": [
    "array([1,2,3])"
   ]
  },
  {
   "cell_type": "markdown",
   "id": "8865ee9b",
   "metadata": {},
   "source": [
    "# Numpy\n",
    "\n",
    "Numpy es una librería de cómputo científico que viene a solucionar los problemas que teníamos con las listas (operaciones vectoriales)"
   ]
  },
  {
   "cell_type": "code",
   "execution_count": 47,
   "id": "55725e4a",
   "metadata": {},
   "outputs": [],
   "source": [
    "import numpy as np\n",
    "\n",
    "#Crear arreglos de números\n",
    "v1 = np.array([1,2,3,4,5])\n",
    "l1 = [1,2,3,4,5]"
   ]
  },
  {
   "cell_type": "code",
   "execution_count": 61,
   "id": "c2d3915f",
   "metadata": {},
   "outputs": [],
   "source": [
    "#type(v1)"
   ]
  },
  {
   "cell_type": "code",
   "execution_count": 60,
   "id": "86fdfdf4",
   "metadata": {},
   "outputs": [
    {
     "name": "stdout",
     "output_type": "stream",
     "text": [
      "[4 5 6 7 8]\n",
      "[4, 5, 6, 7, 8]\n",
      "[ 3  6  9 12 15]\n"
     ]
    }
   ],
   "source": [
    "print(v1 + 3) #suma de un vector con un escalar\n",
    "print([x + 3 for x in l1]) #suma de una lista con un escalar\n",
    "print(v1 * 3) #producto de un vector con un escalar"
   ]
  },
  {
   "cell_type": "code",
   "execution_count": 58,
   "id": "202f84b2",
   "metadata": {},
   "outputs": [],
   "source": [
    "v2 = np.array([5,6,7,8,9])"
   ]
  },
  {
   "cell_type": "code",
   "execution_count": 62,
   "id": "8ed51c00",
   "metadata": {},
   "outputs": [
    {
     "name": "stdout",
     "output_type": "stream",
     "text": [
      "[ 6  8 10 12 14]\n",
      "[ 5 12 21 32 45]\n"
     ]
    }
   ],
   "source": [
    "#Podemos realizar operaciones con dos vectores\n",
    "print(v1+v2)\n",
    "print(v1*v2)"
   ]
  },
  {
   "cell_type": "code",
   "execution_count": 68,
   "id": "4e7ebb5b",
   "metadata": {},
   "outputs": [
    {
     "name": "stdout",
     "output_type": "stream",
     "text": [
      "[  2.71828183   7.3890561   20.08553692  54.59815003 148.4131591 ]\n",
      "[0.         0.69314718 1.09861229 1.38629436 1.60943791]\n",
      "[ 0.84147098  0.90929743  0.14112001 -0.7568025  -0.95892427]\n"
     ]
    }
   ],
   "source": [
    "#existen funciones especiales como funciones trigonométricas, logarít-\n",
    "#micas y exponenciales\n",
    "print(np.exp(v1))\n",
    "print(np.log(v1)) # en lenguajes de programación \"log\" se refiere al \n",
    "#logaritmo natural\n",
    "#np.log()# SI NECESITAN AYUDA PARA SABER LOS ARGUMENTOS QUE LLEVA UNA FUNCIÓN,\n",
    "#OPRIMIR MAYUSC+TAB\n",
    "print(np.sin(v1)) #seno elemento a elemento de un arreglo"
   ]
  },
  {
   "cell_type": "code",
   "execution_count": 70,
   "id": "cd3ac4ef",
   "metadata": {},
   "outputs": [
    {
     "data": {
      "text/plain": [
       "'1.19.5'"
      ]
     },
     "execution_count": 70,
     "metadata": {},
     "output_type": "execute_result"
    }
   ],
   "source": [
    "#Versión instalada de numpy\n",
    "np.__version__"
   ]
  },
  {
   "cell_type": "code",
   "execution_count": 72,
   "id": "ea86daf8",
   "metadata": {},
   "outputs": [
    {
     "name": "stdout",
     "output_type": "stream",
     "text": [
      "[[ 1  2  4]\n",
      " [ 5  7  9]\n",
      " [20  3  6]]\n"
     ]
    }
   ],
   "source": [
    "#Operaciones matriciales\n",
    "#Definir una matriz\n",
    "m1 = np.array([[1,2,4],[5,7,9],[20,3,6]])\n",
    "print(m1)"
   ]
  },
  {
   "cell_type": "code",
   "execution_count": 74,
   "id": "7bac3b50",
   "metadata": {},
   "outputs": [
    {
     "name": "stdout",
     "output_type": "stream",
     "text": [
      "(3, 3)\n"
     ]
    },
    {
     "data": {
      "text/plain": [
       "numpy.ndarray"
      ]
     },
     "execution_count": 74,
     "metadata": {},
     "output_type": "execute_result"
    }
   ],
   "source": [
    "#el comando shape, nos dice las dimensiones de una matriz\n",
    "print(m1.shape)\n",
    "type(m1)\n"
   ]
  },
  {
   "cell_type": "code",
   "execution_count": 94,
   "id": "5ed54a6f",
   "metadata": {},
   "outputs": [
    {
     "data": {
      "text/plain": [
       "6"
      ]
     },
     "execution_count": 94,
     "metadata": {},
     "output_type": "execute_result"
    }
   ],
   "source": [
    "#Acceder al tercer renglón de la matriz\n",
    "m1[2][2]"
   ]
  },
  {
   "cell_type": "code",
   "execution_count": 85,
   "id": "5f217a18",
   "metadata": {},
   "outputs": [
    {
     "data": {
      "text/plain": [
       "array([4, 9, 6])"
      ]
     },
     "execution_count": 85,
     "metadata": {},
     "output_type": "execute_result"
    }
   ],
   "source": [
    "#Acceder a la tercera columna de la matriz\n",
    "m1[:,2]"
   ]
  },
  {
   "cell_type": "code",
   "execution_count": 95,
   "id": "593749b0",
   "metadata": {},
   "outputs": [],
   "source": [
    "#Operaciones con matrices\n",
    "m1 = np.array([[1,2,4],[5,7,9],[20,3,6]])\n",
    "m2 = np.array([[1,2,3],[5,8,9],[20,11,6]])"
   ]
  },
  {
   "cell_type": "code",
   "execution_count": 98,
   "id": "8f938477",
   "metadata": {},
   "outputs": [
    {
     "name": "stdout",
     "output_type": "stream",
     "text": [
      "[[ 2  4  7]\n",
      " [10 15 18]\n",
      " [40 14 12]]\n",
      "[[  1   4  12]\n",
      " [ 25  56  81]\n",
      " [400  33  36]]\n",
      "[[ 91  62  45]\n",
      " [220 165 132]\n",
      " [155 130 123]]\n"
     ]
    }
   ],
   "source": [
    "print(m1+m2) #suma de dos matrices\n",
    "print(m1*m2) #producto de dos matrices\n",
    "print(m1.dot(m2)) #producto matricial de dos matrices"
   ]
  },
  {
   "cell_type": "code",
   "execution_count": 99,
   "id": "814fc8d6",
   "metadata": {},
   "outputs": [],
   "source": [
    "m3 = np.linalg.inv(m1) #inversa de una matriz"
   ]
  },
  {
   "cell_type": "code",
   "execution_count": 102,
   "id": "d403d906",
   "metadata": {},
   "outputs": [
    {
     "data": {
      "text/plain": [
       "array([[ 1.00000000e+00,  5.55111512e-17,  5.55111512e-17],\n",
       "       [-5.55111512e-17,  1.00000000e+00,  2.77555756e-17],\n",
       "       [-1.38777878e-17, -2.18575158e-16,  1.00000000e+00]])"
      ]
     },
     "execution_count": 102,
     "metadata": {},
     "output_type": "execute_result"
    }
   ],
   "source": [
    "m3.dot(m1) #Matriz identidad a partir de una matriz y su inversa"
   ]
  },
  {
   "cell_type": "code",
   "execution_count": 111,
   "id": "bfb0cae2",
   "metadata": {},
   "outputs": [],
   "source": [
    "m2 = np.array([[1,2,3],[5,8,9],[20,11,6]])\n",
    "m4 = np.matrix([[1,2,3],[5,8,9],[20,11,6]])"
   ]
  },
  {
   "cell_type": "code",
   "execution_count": 112,
   "id": "19698dbf",
   "metadata": {},
   "outputs": [
    {
     "data": {
      "text/plain": [
       "matrix([[ 71,  51,  39],\n",
       "        [225, 173, 141],\n",
       "        [195, 194, 195]])"
      ]
     },
     "execution_count": 112,
     "metadata": {},
     "output_type": "execute_result"
    }
   ],
   "source": [
    "m4.dot(m2)"
   ]
  },
  {
   "cell_type": "code",
   "execution_count": 107,
   "id": "32709480",
   "metadata": {},
   "outputs": [
    {
     "data": {
      "text/plain": [
       "numpy.ndarray"
      ]
     },
     "execution_count": 107,
     "metadata": {},
     "output_type": "execute_result"
    }
   ],
   "source": [
    "type(m3)"
   ]
  }
 ],
 "metadata": {
  "kernelspec": {
   "display_name": "Python 3",
   "language": "python",
   "name": "python3"
  },
  "language_info": {
   "codemirror_mode": {
    "name": "ipython",
    "version": 3
   },
   "file_extension": ".py",
   "mimetype": "text/x-python",
   "name": "python",
   "nbconvert_exporter": "python",
   "pygments_lexer": "ipython3",
   "version": "3.7.10"
  }
 },
 "nbformat": 4,
 "nbformat_minor": 5
}
